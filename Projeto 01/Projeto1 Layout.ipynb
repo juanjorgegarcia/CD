{
 "cells": [
  {
   "cell_type": "markdown",
   "metadata": {},
   "source": [
    "___\n",
    "# Ciência dos Dados - PROJETO 1"
   ]
  },
  {
   "cell_type": "markdown",
   "metadata": {},
   "source": [
    "## Juan Jorge Garcia - 2B\n",
    "___"
   ]
  },
  {
   "cell_type": "markdown",
   "metadata": {},
   "source": [
    "## Análise socioeconômica das Regiões Brasileiras e o Acesso a Tecnologia"
   ]
  },
  {
   "cell_type": "markdown",
   "metadata": {},
   "source": [
    "___\n",
    "## Introdução\n",
    "\n",
    "Com esse projeto tenho o intuito de explorar a população brasileira nas diferentes regiões, analisando como é o\n",
    "perfil socioeconômico médio de um individuo em cada regiao, sua renda, area onde mora (urbana ou rural), em comparativo dos anos\n",
    "2013 e 2014 e no que isso influencia suas relações com tecnologia como internet e celular (3G, banda larga, discada). \n",
    "Tudo isso vem com o propósito de encontrar uma oportunidade(s) de investimento de uma empresa de telecomunicações\n",
    "com base no indivíduo médio e suas relações com tecnologia e internet.\n",
    "\n"
   ]
  },
  {
   "cell_type": "markdown",
   "metadata": {},
   "source": [
    "___\n",
    "## Análise e Resultados"
   ]
  },
  {
   "cell_type": "code",
   "execution_count": 1,
   "metadata": {
    "collapsed": true
   },
   "outputs": [],
   "source": [
    "%matplotlib inline\n",
    "import pandas as pd\n",
    "import matplotlib.pyplot as plt\n",
    "import numpy as np\n",
    "import os"
   ]
  },
  {
   "cell_type": "code",
   "execution_count": 2,
   "metadata": {},
   "outputs": [
    {
     "name": "stdout",
     "output_type": "stream",
     "text": [
      "Esperamos trabalhar no diretório\n",
      "C:\\Users\\JUAN\\Documents\\GitHub\\CD\\Projeto 01\n"
     ]
    }
   ],
   "source": [
    "print('Esperamos trabalhar no diretório')\n",
    "print(os.getcwd())"
   ]
  },
  {
   "cell_type": "code",
   "execution_count": 3,
   "metadata": {
    "collapsed": true
   },
   "outputs": [],
   "source": [
    "dados2015=pd.read_table(\"PNAD DOM2015\\\\DOM2015csv\\\\DOM2015.csv\", encoding=\"windows-1252\", sep=\",\")\n",
    "#dados2013=pd.read_table(\"PNAD DOM2013\\\\DOM2013csv\\\\DOM2013.csv\", encoding=\"windows-1252\", sep=\",\")"
   ]
  },
  {
   "cell_type": "code",
   "execution_count": 4,
   "metadata": {},
   "outputs": [],
   "source": [
    "# SEPARANDO OS DOMICILIOS POR REGIOES\n",
    "dados2015.shape\n",
    "dados2015.loc[(dados2015.UF>10)&(dados2015.UF<20),\"REGIAO\"] = \"Norte\"\n",
    "dados2015.loc[(dados2015.UF>20)&(dados2015.UF<30),\"REGIAO\"] = \"Nordeste\"\n",
    "dados2015.loc[(dados2015.UF>40)&(dados2015.UF<44),\"REGIAO\"] = \"Sul\"\n",
    "dados2015.loc[(dados2015.UF>30)&(dados2015.UF<35),\"REGIAO\"] = \"Sudeste\"\n",
    "dados2015.loc[(dados2015.UF>49)&(dados2015.UF<54),\"REGIAO\"] = \"Centro-Oeste\"\n"
   ]
  },
  {
   "cell_type": "code",
   "execution_count": 5,
   "metadata": {},
   "outputs": [],
   "source": [
    "#CRIANDO UM FILTRO PARA REGIÕES URBANAS E RURAIS\n",
    "\n",
    "dados2015.loc[(dados2015.V4105>=1)&(dados2015.V4105<=3),\"URBANIZACAO\"] = \"Urbana\"\n",
    "dados2015.loc[(dados2015.V4105>3)&(dados2015.V4105<=8),\"URBANIZACAO\"] = \"Rural\"\n"
   ]
  },
  {
   "cell_type": "code",
   "execution_count": 6,
   "metadata": {
    "collapsed": true
   },
   "outputs": [],
   "source": [
    "# CRIANDO UM FILTRO PARA RENDIMENTO MENSAL DOMICILIAR EM SALARIOS MINIMOS \n",
    "\n",
    "dados2015 = dados2015.rename(columns = {\"V4614\":\"RENDA\"})\n",
    "dados2015.loc[(dados2015.RENDA>=1)&(dados2015.RENDA<=(937*(1/2))),\"SALARIOS MINIMOS\"] = \"Até 1/2 salarios\"\n",
    "dados2015.loc[(dados2015.RENDA>(937*(1/2)))&(dados2015.RENDA<=937),\"SALARIOS MINIMOS\"] = \"Entre 1/2 e 1 salario\"\n",
    "dados2015.loc[(dados2015.RENDA>937)&(dados2015.RENDA<=937*2),\"SALARIOS MINIMOS\"] = \"Entre 1 e 2 salarios\"\n",
    "dados2015.loc[(dados2015.RENDA>937*2)&(dados2015.RENDA<=937*3),\"SALARIOS MINIMOS\"] = \"Entre 2 e 3 salarios\"\n",
    "dados2015.loc[(dados2015.RENDA>937*3)&(dados2015.RENDA<=937*5),\"SALARIOS MINIMOS\"] = \"Entre 3 e 5 salarios\"\n",
    "dados2015.loc[(dados2015.RENDA>937*5)&(dados2015.RENDA<=937*10),\"SALARIOS MINIMOS\"] = \"Entre 5 e 10 salarios\"\n",
    "dados2015.loc[(dados2015.RENDA>937*10),\"SALARIOS MINIMOS\"] = \"Mais que 10 salarios\"\n"
   ]
  },
  {
   "cell_type": "code",
   "execution_count": 7,
   "metadata": {
    "collapsed": true
   },
   "outputs": [],
   "source": [
    "# CRIANDO UM FILTRO PARA AS PESSOAS QUE TEM ACESSO A INTERNET NO PROPRIO DOMICILIO\n",
    "\n",
    "dados2015.loc[(dados2015.V02322 == 2),\"ACESSO A INTERNET\"] = \"Sim\"\n",
    "dados2015.loc[(dados2015.V02322 == 4),\"ACESSO A INTERNET\"] = \"Nao\"\n"
   ]
  },
  {
   "cell_type": "code",
   "execution_count": 8,
   "metadata": {},
   "outputs": [],
   "source": [
    "# CRIANDO UM FILTRO PARA O TIPO DE ACESSO DE INTERNET \n",
    "\n",
    "dados2015.loc[(dados2015.V02426 == 4),\"BANDA LARGA\"] = \"Nao\"\n",
    "dados2015.loc[(dados2015.V02425 == 4),\"CONEXAO DISCADA\"] = \"Nao\"\n",
    "dados2015.loc[(dados2015.V02424 == 4),\"3G\"] = \"Nao\"\n",
    "dados2015.loc[(dados2015.V02426 == 2),\"BANDA LARGA\"] = \"Sim\"\n",
    "dados2015.loc[(dados2015.V02425 == 2),\"CONEXAO DISCADA\"] = \"Sim\"\n",
    "dados2015.loc[(dados2015.V02424 == 2),\"3G\"] = \"Sim\"\n"
   ]
  },
  {
   "cell_type": "code",
   "execution_count": 9,
   "metadata": {
    "collapsed": true
   },
   "outputs": [],
   "source": [
    "# CRIANDO UM FILTRO PARA AS PESSOAS QUE TEM ACESSO A CELULAR NO PROPRIO DOMICILIO\n",
    "dados2015.loc[(dados2015.V0220 == 2),\"ACESSO A CELULAR\"] = \"Sim\"\n",
    "dados2015.loc[(dados2015.V0220 == 4),\"ACESSO A CELULAR\"] = \"Nao\"\n"
   ]
  },
  {
   "cell_type": "code",
   "execution_count": 10,
   "metadata": {},
   "outputs": [],
   "source": [
    "dados_interesse = dados2015.loc[:, [\"REGIAO\",\"URBANIZACAO\",\"RENDA\",\"SALARIOS MINIMOS\",\n",
    "                                    \"ACESSO A INTERNET\",\"ACESSO A CELULAR\",\"CONEXAO DISCADA\",\"BANDA LARGA\",\"3G\"]]\n"
   ]
  },
  {
   "cell_type": "code",
   "execution_count": 11,
   "metadata": {},
   "outputs": [
    {
     "data": {
      "text/html": [
       "<div>\n",
       "<table border=\"1\" class=\"dataframe\">\n",
       "  <thead>\n",
       "    <tr style=\"text-align: right;\">\n",
       "      <th></th>\n",
       "      <th>REGIAO</th>\n",
       "      <th>URBANIZACAO</th>\n",
       "      <th>RENDA</th>\n",
       "      <th>SALARIOS MINIMOS</th>\n",
       "      <th>ACESSO A INTERNET</th>\n",
       "      <th>ACESSO A CELULAR</th>\n",
       "      <th>CONEXAO DISCADA</th>\n",
       "      <th>BANDA LARGA</th>\n",
       "      <th>3G</th>\n",
       "    </tr>\n",
       "  </thead>\n",
       "  <tbody>\n",
       "    <tr>\n",
       "      <th>0</th>\n",
       "      <td>Norte</td>\n",
       "      <td>Urbana</td>\n",
       "      <td>800.0</td>\n",
       "      <td>Entre 1/2 e 1 salario</td>\n",
       "      <td>Nao</td>\n",
       "      <td>Sim</td>\n",
       "      <td>NaN</td>\n",
       "      <td>NaN</td>\n",
       "      <td>NaN</td>\n",
       "    </tr>\n",
       "    <tr>\n",
       "      <th>1</th>\n",
       "      <td>Norte</td>\n",
       "      <td>Urbana</td>\n",
       "      <td>NaN</td>\n",
       "      <td>NaN</td>\n",
       "      <td>NaN</td>\n",
       "      <td>NaN</td>\n",
       "      <td>NaN</td>\n",
       "      <td>NaN</td>\n",
       "      <td>NaN</td>\n",
       "    </tr>\n",
       "    <tr>\n",
       "      <th>2</th>\n",
       "      <td>Norte</td>\n",
       "      <td>Urbana</td>\n",
       "      <td>1150.0</td>\n",
       "      <td>Entre 1 e 2 salarios</td>\n",
       "      <td>Sim</td>\n",
       "      <td>Sim</td>\n",
       "      <td>Nao</td>\n",
       "      <td>Sim</td>\n",
       "      <td>Sim</td>\n",
       "    </tr>\n",
       "    <tr>\n",
       "      <th>3</th>\n",
       "      <td>Norte</td>\n",
       "      <td>Urbana</td>\n",
       "      <td>4760.0</td>\n",
       "      <td>Entre 5 e 10 salarios</td>\n",
       "      <td>Sim</td>\n",
       "      <td>Sim</td>\n",
       "      <td>Nao</td>\n",
       "      <td>Sim</td>\n",
       "      <td>Sim</td>\n",
       "    </tr>\n",
       "    <tr>\n",
       "      <th>4</th>\n",
       "      <td>Norte</td>\n",
       "      <td>Urbana</td>\n",
       "      <td>5800.0</td>\n",
       "      <td>Entre 5 e 10 salarios</td>\n",
       "      <td>Nao</td>\n",
       "      <td>Sim</td>\n",
       "      <td>NaN</td>\n",
       "      <td>NaN</td>\n",
       "      <td>NaN</td>\n",
       "    </tr>\n",
       "    <tr>\n",
       "      <th>5</th>\n",
       "      <td>Norte</td>\n",
       "      <td>Urbana</td>\n",
       "      <td>1990.0</td>\n",
       "      <td>Entre 2 e 3 salarios</td>\n",
       "      <td>Sim</td>\n",
       "      <td>Nao</td>\n",
       "      <td>Nao</td>\n",
       "      <td>Sim</td>\n",
       "      <td>Nao</td>\n",
       "    </tr>\n",
       "    <tr>\n",
       "      <th>6</th>\n",
       "      <td>Norte</td>\n",
       "      <td>Urbana</td>\n",
       "      <td>700.0</td>\n",
       "      <td>Entre 1/2 e 1 salario</td>\n",
       "      <td>Nao</td>\n",
       "      <td>Sim</td>\n",
       "      <td>NaN</td>\n",
       "      <td>NaN</td>\n",
       "      <td>NaN</td>\n",
       "    </tr>\n",
       "    <tr>\n",
       "      <th>7</th>\n",
       "      <td>Norte</td>\n",
       "      <td>Urbana</td>\n",
       "      <td>4000.0</td>\n",
       "      <td>Entre 3 e 5 salarios</td>\n",
       "      <td>Nao</td>\n",
       "      <td>Sim</td>\n",
       "      <td>NaN</td>\n",
       "      <td>NaN</td>\n",
       "      <td>NaN</td>\n",
       "    </tr>\n",
       "    <tr>\n",
       "      <th>8</th>\n",
       "      <td>Norte</td>\n",
       "      <td>Urbana</td>\n",
       "      <td>4090.0</td>\n",
       "      <td>Entre 3 e 5 salarios</td>\n",
       "      <td>Sim</td>\n",
       "      <td>Sim</td>\n",
       "      <td>Nao</td>\n",
       "      <td>Sim</td>\n",
       "      <td>Sim</td>\n",
       "    </tr>\n",
       "    <tr>\n",
       "      <th>9</th>\n",
       "      <td>Norte</td>\n",
       "      <td>Urbana</td>\n",
       "      <td>NaN</td>\n",
       "      <td>NaN</td>\n",
       "      <td>NaN</td>\n",
       "      <td>NaN</td>\n",
       "      <td>NaN</td>\n",
       "      <td>NaN</td>\n",
       "      <td>NaN</td>\n",
       "    </tr>\n",
       "  </tbody>\n",
       "</table>\n",
       "</div>"
      ],
      "text/plain": [
       "  REGIAO URBANIZACAO   RENDA       SALARIOS MINIMOS ACESSO A INTERNET  \\\n",
       "0  Norte      Urbana   800.0  Entre 1/2 e 1 salario               Nao   \n",
       "1  Norte      Urbana     NaN                    NaN               NaN   \n",
       "2  Norte      Urbana  1150.0   Entre 1 e 2 salarios               Sim   \n",
       "3  Norte      Urbana  4760.0  Entre 5 e 10 salarios               Sim   \n",
       "4  Norte      Urbana  5800.0  Entre 5 e 10 salarios               Nao   \n",
       "5  Norte      Urbana  1990.0   Entre 2 e 3 salarios               Sim   \n",
       "6  Norte      Urbana   700.0  Entre 1/2 e 1 salario               Nao   \n",
       "7  Norte      Urbana  4000.0   Entre 3 e 5 salarios               Nao   \n",
       "8  Norte      Urbana  4090.0   Entre 3 e 5 salarios               Sim   \n",
       "9  Norte      Urbana     NaN                    NaN               NaN   \n",
       "\n",
       "  ACESSO A CELULAR CONEXAO DISCADA BANDA LARGA   3G  \n",
       "0              Sim             NaN         NaN  NaN  \n",
       "1              NaN             NaN         NaN  NaN  \n",
       "2              Sim             Nao         Sim  Sim  \n",
       "3              Sim             Nao         Sim  Sim  \n",
       "4              Sim             NaN         NaN  NaN  \n",
       "5              Nao             Nao         Sim  Nao  \n",
       "6              Sim             NaN         NaN  NaN  \n",
       "7              Sim             NaN         NaN  NaN  \n",
       "8              Sim             Nao         Sim  Sim  \n",
       "9              NaN             NaN         NaN  NaN  "
      ]
     },
     "execution_count": 11,
     "metadata": {},
     "output_type": "execute_result"
    }
   ],
   "source": [
    "dados_interesse.head(10)\n",
    "#dados_interesse2013.head(10)"
   ]
  },
  {
   "cell_type": "code",
   "execution_count": 12,
   "metadata": {},
   "outputs": [
    {
     "name": "stderr",
     "output_type": "stream",
     "text": [
      "C:\\Users\\JUAN\\Anaconda3\\lib\\site-packages\\ipykernel\\__main__.py:2: UserWarning: Boolean Series key will be reindexed to match DataFrame index.\n",
      "  from ipykernel import kernelapp as app\n"
     ]
    }
   ],
   "source": [
    "#filtrando os NaN da nossa base de dados\n",
    "dados_interesse = dados_interesse[pd.notnull(dados_interesse['ACESSO A INTERNET'])][pd.notnull(dados_interesse['RENDA'])]\n",
    "\n",
    "#dados_interesse2013 = dados_interesse2013[pd.notnull(dados_interesse2013['ACESSO A INTERNET'])][pd.notnull(dados_interesse2013['RENDA'])]\n",
    "#quem nao tem internet fica com NaN nas perguntas sobre como acessa a intenet"
   ]
  },
  {
   "cell_type": "code",
   "execution_count": 13,
   "metadata": {},
   "outputs": [
    {
     "name": "stdout",
     "output_type": "stream",
     "text": [
      "Describe da renda de 2015\n",
      " count    1.176010e+05\n",
      "mean     1.960018e+10\n",
      "std      1.386224e+11\n",
      "min      0.000000e+00\n",
      "25%      1.100000e+03\n",
      "50%      2.000000e+03\n",
      "75%      3.689000e+03\n",
      "max      1.000000e+12\n",
      "Name: RENDA, dtype: float64\n",
      "#################################\n"
     ]
    },
    {
     "ename": "NameError",
     "evalue": "name 'dados_interesse2013' is not defined",
     "output_type": "error",
     "traceback": [
      "\u001b[0;31m---------------------------------------------------------------------------\u001b[0m",
      "\u001b[0;31mNameError\u001b[0m                                 Traceback (most recent call last)",
      "\u001b[0;32m<ipython-input-13-c4935428314f>\u001b[0m in \u001b[0;36m<module>\u001b[0;34m()\u001b[0m\n\u001b[1;32m      1\u001b[0m \u001b[0mprint\u001b[0m\u001b[1;33m(\u001b[0m\u001b[1;34m\"Describe da renda de 2015\\n\"\u001b[0m\u001b[1;33m,\u001b[0m\u001b[0mdados_interesse\u001b[0m\u001b[1;33m.\u001b[0m\u001b[0mRENDA\u001b[0m\u001b[1;33m.\u001b[0m\u001b[0mdescribe\u001b[0m\u001b[1;33m(\u001b[0m\u001b[1;33m)\u001b[0m\u001b[1;33m)\u001b[0m\u001b[1;33m\u001b[0m\u001b[0m\n\u001b[1;32m      2\u001b[0m \u001b[0mprint\u001b[0m\u001b[1;33m(\u001b[0m\u001b[1;34m\"#################################\"\u001b[0m\u001b[1;33m)\u001b[0m\u001b[1;33m\u001b[0m\u001b[0m\n\u001b[0;32m----> 3\u001b[0;31m \u001b[0mprint\u001b[0m\u001b[1;33m(\u001b[0m\u001b[1;34m\"Descrive da renda de 2013\\n\"\u001b[0m\u001b[1;33m,\u001b[0m\u001b[0mdados_interesse2013\u001b[0m\u001b[1;33m.\u001b[0m\u001b[0mRENDA\u001b[0m\u001b[1;33m.\u001b[0m\u001b[0mdescribe\u001b[0m\u001b[1;33m(\u001b[0m\u001b[1;33m)\u001b[0m\u001b[1;33m)\u001b[0m\u001b[1;33m\u001b[0m\u001b[0m\n\u001b[0m",
      "\u001b[0;31mNameError\u001b[0m: name 'dados_interesse2013' is not defined"
     ]
    }
   ],
   "source": [
    "print(\"Describe da renda de 2015\\n\",dados_interesse.RENDA.describe())\n",
    "print(\"#################################\")\n",
    "print(\"Descrive da renda de 2013\\n\",dados_interesse2013.RENDA.describe())"
   ]
  },
  {
   "cell_type": "markdown",
   "metadata": {},
   "source": [
    "Existem valores muito altos de renda para poquíssimos individuos, fazendo com que as medidas como media e desvio padrao fugirem\n",
    "muito de seus valores,assim, essas medidas passam a nao descrever mais a população em geral então, para que se tenha uma melhor\n",
    "compreensão do brasileiro, é necessario a exclusão desses valores.\n"
   ]
  },
  {
   "cell_type": "code",
   "execution_count": null,
   "metadata": {
    "scrolled": true
   },
   "outputs": [],
   "source": [
    "quantils=dados_interesse.RENDA.quantile(np.arange(0,1,.1))\n",
    "quantils.plot(kind=\"box\",grid=True)\n",
    "\n"
   ]
  },
  {
   "cell_type": "markdown",
   "metadata": {},
   "source": [
    "Retirado a parte que não representa a população (os 10% mais ricos), tem-se uma melhor analise de dados."
   ]
  },
  {
   "cell_type": "code",
   "execution_count": null,
   "metadata": {},
   "outputs": [],
   "source": [
    "# Separando faixas iguais de renda em salarios minimos\n",
    "\n",
    "faixa = np.arange(0,10000,937)\n",
    "sal_min = pd.cut(dados_interesse.RENDA,faixa)\n",
    "#sal_min.value_counts()\n",
    "plot = dados_interesse.RENDA.plot.hist(bins=faixa,title=\"Renda da Populacao Brasileira\", normed = 1,color=\"darkslateblue\",alpha=0.5)\n",
    "plt.xlabel(\"Renda [Reais]\")\n",
    "plt.ylabel(\"Densidade\")\n",
    "plt.grid(True)\n",
    "sal_min.value_counts(sort=False, normalize=True)*100\n",
    "\n",
    "\n"
   ]
  },
  {
   "cell_type": "markdown",
   "metadata": {},
   "source": [
    "Esse grafico deixa claro onde está as rendas que representam melhor a população brasileira (entre (0 e 5000)), a partir disso,\n",
    "a porcentagem  da populacao representada é infima. Temos mais de 50% da populacao brasileira ganhando entre 2 salarios minimos\n",
    "(até 1900 reais) por exemplo.\n"
   ]
  },
  {
   "cell_type": "code",
   "execution_count": null,
   "metadata": {},
   "outputs": [],
   "source": [
    "sal_min.value_counts()\n",
    "sal_reg=pd.crosstab(dados_interesse[\"REGIAO\"],sal_min,normalize = True)\n",
    "b=sal_reg.sum().sum()\n",
    "sal_reg*100/b\n",
    "\n",
    "sal_reg.plot(kind=\"bar\",figsize=(15,10), colormap=\"winter\",alpha=0.8, grid= True)"
   ]
  },
  {
   "cell_type": "code",
   "execution_count": null,
   "metadata": {},
   "outputs": [],
   "source": [
    "for i in range(5):\n",
    "    sal_reg[i:i+1].plot(kind=\"bar\",grid = True, colormap =\"winter\",alpha=0.6)\n",
    "    "
   ]
  },
  {
   "cell_type": "markdown",
   "metadata": {},
   "source": [
    "Grande parte da região Nordeste e Norte vive com menos de 3 salarios mínimos, mas representam um grande número da população \n",
    "brasileira, algo que pode nos representar um mercado comsumidor em potencial, principalmente para planos mais baratos.\n",
    "\n",
    "Regiao Sul e sudeste são regioes mais ricas.\n",
    "\n",
    "Regiao Sudeste possui uma grande população com uma renda media alta, podendo representar um mercado bom para planos \n",
    "mais caros (como uma maior velocidade de internet por ex ou planos de 4G)."
   ]
  },
  {
   "cell_type": "code",
   "execution_count": null,
   "metadata": {},
   "outputs": [],
   "source": [
    "sal_min.value_counts()\n",
    "sal_net=pd.crosstab(dados_interesse[\"ACESSO A INTERNET\"],sal_min,normalize = True)\n",
    "b=sal_net.sum().sum()\n",
    "sal_net*100/b\n"
   ]
  },
  {
   "cell_type": "markdown",
   "metadata": {},
   "source": [
    "Ve-se que a partir de 3 salarios mínimos, mais da metade das pessoas possuem acesso à internet, com 2 salarios mínimos\n",
    "vemos quase equiparado os que possuem internet com os que não possuem. Isso pode significar um mercado favorável para planos \n",
    "de inclusão digital, especialmente, para as pessoas dessa faixa, que parecem se interessar mais pela internet."
   ]
  },
  {
   "cell_type": "code",
   "execution_count": null,
   "metadata": {},
   "outputs": [],
   "source": [
    "rural_sal=(dados_interesse[\"SALARIOS MINIMOS\"])[dados_interesse.URBANIZACAO==\"Rural\"].value_counts()\n",
    "rural_sal.plot(kind=\"pie\",autopct=\"%0.1f\", title= \"Area Rural\", colormap=\"Blues_r\",figsize=(10,10))"
   ]
  },
  {
   "cell_type": "code",
   "execution_count": null,
   "metadata": {},
   "outputs": [],
   "source": [
    "rural_net=(dados_interesse[\"ACESSO A INTERNET\"])[dados_interesse.URBANIZACAO==\"Rural\"].value_counts()\n",
    "rural_3G= (dados_interesse[\"3G\"])[dados_interesse.URBANIZACAO==\"Rural\"].value_counts()\n",
    "rural_bl= (dados_interesse[\"BANDA LARGA\"])[dados_interesse.URBANIZACAO==\"Rural\"].value_counts()\n",
    "rural_cd= (dados_interesse[\"CONEXAO DISCADA\"])[dados_interesse.URBANIZACAO==\"Rural\"].value_counts()\n",
    "\n",
    "print(rural_bl)\n",
    "\n",
    "f, axarr = plt.subplots(1,4,figsize=(20,5))\n",
    "axarr[0].pie(rural_net,autopct=\"%0.1f\",labels=rural_net.index,colors=[\"lightsteelblue\",\"royalblue\"])\n",
    "axarr[0].set_title('Rural - ACESSO A INTERNET')\n",
    "\n",
    "\n",
    "axarr[1].pie(rural_3G,autopct=\"%0.1f\",labels=rural_3G.index,colors=[\"royalblue\",\"lightsteelblue\"])\n",
    "axarr[1].set_title('3G')\n",
    "\n",
    "\n",
    "axarr[2].pie(rural_bl,autopct=\"%0.1f\",labels=rural_bl.index,colors=[\"lightsteelblue\",\"royalblue\"])\n",
    "axarr[2].set_title('BANDA LARGA')\n",
    "\n",
    "\n",
    "axarr[3].pie(rural_cd,autopct=\"%0.1f\",labels=rural_cd.index,colors=[\"lightsteelblue\",\"royalblue\"])\n",
    "axarr[3].set_title('CONEXAO DISCADA')\n"
   ]
  },
  {
   "cell_type": "code",
   "execution_count": null,
   "metadata": {},
   "outputs": [],
   "source": [
    "urb_sal=(dados_interesse[\"SALARIOS MINIMOS\"])[dados_interesse.URBANIZACAO==\"Urbana\"].value_counts()\n",
    "urb_sal.plot(kind=\"pie\",autopct=\"%0.1f\", title= \"Area Urbana\", colormap=\"Blues_r\",figsize=(10,10))\n"
   ]
  },
  {
   "cell_type": "code",
   "execution_count": null,
   "metadata": {},
   "outputs": [],
   "source": [
    "urb_net=(dados_interesse[\"ACESSO A INTERNET\"])[dados_interesse.URBANIZACAO==\"Urbana\"].value_counts()\n",
    "urb_3G= (dados_interesse[\"3G\"])[dados_interesse.URBANIZACAO==\"Urbana\"].value_counts()\n",
    "urb_bl= (dados_interesse[\"BANDA LARGA\"])[dados_interesse.URBANIZACAO==\"Urbana\"].value_counts()\n",
    "urb_cd= (dados_interesse[\"CONEXAO DISCADA\"])[dados_interesse.URBANIZACAO==\"Urbana\"].value_counts()\n",
    "\n",
    "\n",
    "\n",
    "f, axarr = plt.subplots(1,4,figsize=(20,5))\n",
    "axarr[0].pie(urb_net,autopct=\"%0.1f\",labels=urb_net.index,colors=[\"royalblue\",\"lightsteelblue\"])\n",
    "axarr[0].set_title('Urbana - ACESSO A INTERNET')\n",
    "\n",
    "\n",
    "axarr[1].pie(urb_3G,autopct=\"%0.1f\",labels=urb_3G.index,colors=[\"royalblue\",\"lightsteelblue\"])\n",
    "axarr[1].set_title('3G')\n",
    "\n",
    "\n",
    "axarr[2].pie(urb_bl,autopct=\"%0.1f\",labels=urb_bl.index,colors=[\"royalblue\",\"lightsteelblue\"])\n",
    "axarr[2].set_title('BANDA LARGA')\n",
    "\n",
    "\n",
    "axarr[3].pie(urb_cd,autopct=\"%0.1f\",labels=urb_cd.index,colors=[\"lightsteelblue\",\"royalblue\"])\n",
    "axarr[3].set_title('CONEXAO DISCADA')"
   ]
  },
  {
   "cell_type": "markdown",
   "metadata": {},
   "source": [
    "Esses gráficos mostram que a grande maioria da população rural brasileira não tem acesso a internet (80%), enquanto boa parte \n",
    "da populacao urbana tem acesso(60%).\n",
    "Grande parte da população rural que acessa a internet, usa o 3G como meio, pelos dados, acredita-se que a forma mais eficaz\n",
    "de aumentar o acesso à internet dessa regiao, seria por planos de 3G mais baratos (podendo reduzir a velocidade e o tamanho de\n",
    "                                                                                   pacotes de dados)\n",
    "Enquanto a população urbana vemos grande equilibrio entre 3G e banda larga.\n",
    "Curiosamente, percebe-se, que a conexão discada caiu em desuso em nosso pais (para a alegria de muitos)!"
   ]
  },
  {
   "cell_type": "code",
   "execution_count": null,
   "metadata": {},
   "outputs": [],
   "source": [
    "sal_cel=pd.crosstab(sal_min,dados_interesse[\"ACESSO A CELULAR\"],normalize = True)\n",
    "sal_cel.plot(kind=\"bar\")\n",
    "\n",
    "x=dados_interesse[\"ACESSO A CELULAR\"].value_counts()\n",
    "b=x.sum()\n",
    "print(\"A porcentagem de brasileiros que usa celular é de: \",(100*x[0]/x.sum()),\"%\")"
   ]
  },
  {
   "cell_type": "markdown",
   "metadata": {},
   "source": [
    "Mais de 91% da população brasileira possui celular, sendo assim o mercado de 3G e 4G no brasil possui um enorme potencial."
   ]
  },
  {
   "cell_type": "code",
   "execution_count": null,
   "metadata": {},
   "outputs": [],
   "source": [
    "#tive que plotar separado os graficos pois plotar graficos de cada regiao em um for travava\n",
    "net_nort= (dados_interesse[\"ACESSO A INTERNET\"])[dados_interesse.REGIAO==\"Norte\"].value_counts()\n",
    "nort_3G= (dados_interesse[\"3G\"])[dados_interesse.REGIAO==\"Norte\"].value_counts()\n",
    "nort_bl= (dados_interesse[\"BANDA LARGA\"])[dados_interesse.REGIAO==\"Norte\"].value_counts()\n",
    "nort_cd= (dados_interesse[\"CONEXAO DISCADA\"])[dados_interesse.REGIAO==\"Norte\"].value_counts()\n",
    "\n",
    "\n",
    "f, axarr = plt.subplots(1,4,figsize=(20,5))\n",
    "axarr[0].pie(net_nort,autopct=\"%0.1f\",labels=net_nort.index,colors=[\"lightsteelblue\",\"royalblue\"])\n",
    "axarr[0].set_title('Norte - ACESSO A INTERNET')\n",
    "\n",
    "\n",
    "axarr[1].pie(nort_3G,autopct=\"%0.1f\",labels=nort_3G.index,colors=[\"royalblue\",\"lightsteelblue\"])\n",
    "axarr[1].set_title('3G')\n",
    "\n",
    "\n",
    "axarr[2].pie(nort_bl,autopct=\"%0.1f\",labels=nort_bl.index,colors=[\"lightsteelblue\",\"royalblue\"])\n",
    "axarr[2].set_title('BANDA LARGA')\n",
    "\n",
    "axarr[3].pie(nort_cd,autopct=\"%0.1f\",labels=nort_cd.index,colors=[\"lightsteelblue\",\"royalblue\"])\n",
    "axarr[3].set_title('CONEXAO DISCADA')\n",
    "\n",
    "sal_reg[2:3].plot(kind=\"bar\",grid = True, colormap =\"winter\",alpha=0.6,title=\"Salarios Nortistas\")\n"
   ]
  },
  {
   "cell_type": "markdown",
   "metadata": {},
   "source": [
    "De acordo com esses dados, a empresa de telecomunicação que deseja expandir suas vendas para regiao norte, pode ter sucesso,\n",
    "concentrando suas vendas de planos para o serviço de 3G, pois, dos 47% que acessam internet, 82% acessam por 3G, \n",
    "mostrando a preferencia da regiao por esse tipo de serviço, a empresa deve-se concentrar para aumentar o número de pessoas\n",
    "que acessam a internet(47%)."
   ]
  },
  {
   "cell_type": "code",
   "execution_count": null,
   "metadata": {},
   "outputs": [],
   "source": [
    "net_nord= (dados_interesse[\"ACESSO A INTERNET\"])[dados_interesse.REGIAO==\"Nordeste\"].value_counts()\n",
    "nord_3G= (dados_interesse[\"3G\"])[dados_interesse.REGIAO==\"Nordeste\"].value_counts()\n",
    "nord_bl= (dados_interesse[\"BANDA LARGA\"])[dados_interesse.REGIAO==\"Nordeste\"].value_counts()\n",
    "nord_cd= (dados_interesse[\"CONEXAO DISCADA\"])[dados_interesse.REGIAO==\"Nordeste\"].value_counts()\n",
    "\n",
    "f, axarr = plt.subplots(1,4,figsize=(20,5))\n",
    "axarr[0].pie(net_nord,autopct=\"%0.1f\",labels=net_nord.index,colors=[\"lightsteelblue\",\"royalblue\"])\n",
    "axarr[0].set_title('Nordeste - ACESSO A INTERNET')\n",
    "\n",
    "\n",
    "axarr[1].pie(nord_3G,autopct=\"%0.1f\",labels=nord_3G.index,colors=[\"royalblue\",\"lightsteelblue\"])\n",
    "axarr[1].set_title('3G')\n",
    "\n",
    "\n",
    "axarr[2].pie(nord_bl,autopct=\"%0.1f\",labels=nord_bl.index,colors=[\"royalblue\",\"lightsteelblue\"])\n",
    "axarr[2].set_title('BANDA LARGA')\n",
    "\n",
    "axarr[3].pie(nord_cd,autopct=\"%0.1f\",labels=nord_cd.index,colors=[\"lightsteelblue\",\"royalblue\"])\n",
    "axarr[3].set_title('CONEXAO DISCADA')\n",
    "sal_reg[1:2].plot(kind=\"bar\",grid = True, colormap =\"winter\",alpha=0.6,title=\"Salarios Nordestinos\")\n"
   ]
  },
  {
   "cell_type": "markdown",
   "metadata": {},
   "source": [
    "No nordeste existe um grande mercado em potencial, populacao grande e um grande numero de pessoas que ainda não tem acesso a \n",
    "internet, a empresa pode investir em planos promocionais (básicos) conjuntos de 3G e Banda Larga (devido a uma media \n",
    "                                                                                                  menor de salario)."
   ]
  },
  {
   "cell_type": "code",
   "execution_count": null,
   "metadata": {},
   "outputs": [],
   "source": [
    "net_sud= (dados_interesse[\"ACESSO A INTERNET\"])[dados_interesse.REGIAO==\"Sudeste\"].value_counts()\n",
    "sud_3G= (dados_interesse[\"3G\"])[dados_interesse.REGIAO==\"Sudeste\"].value_counts()\n",
    "sud_bl= (dados_interesse[\"BANDA LARGA\"])[dados_interesse.REGIAO==\"Sudeste\"].value_counts()\n",
    "sud_cd= (dados_interesse[\"CONEXAO DISCADA\"])[dados_interesse.REGIAO==\"Sudeste\"].value_counts()\n",
    "\n",
    "f, axarr = plt.subplots(1,4,figsize=(20,5))\n",
    "axarr[0].pie(net_sud,autopct=\"%0.1f\",labels=net_sud.index,colors=[\"lightsteelblue\",\"royalblue\"])\n",
    "axarr[0].set_title('Sudeste - ACESSO A INTERNET')\n",
    "\n",
    "\n",
    "axarr[1].pie(sud_3G,autopct=\"%0.1f\",labels=sud_3G.index,colors=[\"royalblue\",\"lightsteelblue\"])\n",
    "axarr[1].set_title('3G')\n",
    "\n",
    "\n",
    "axarr[2].pie(sud_bl,autopct=\"%0.1f\",labels=sud_bl.index,colors=[\"royalblue\",\"lightsteelblue\"])\n",
    "axarr[2].set_title('BANDA LARGA')\n",
    "\n",
    "axarr[3].pie(sud_cd,autopct=\"%0.1f\",labels=sud_cd.index,colors=[\"lightsteelblue\",\"royalblue\"])\n",
    "axarr[3].set_title('CONEXAO DISCADA')\n",
    "\n",
    "sal_reg[3:4].plot(kind=\"bar\",grid = True, colormap =\"winter\",alpha=0.6,title=\"Salarios Sudeste\")"
   ]
  },
  {
   "cell_type": "code",
   "execution_count": null,
   "metadata": {
    "collapsed": true
   },
   "outputs": [],
   "source": [
    "###"
   ]
  },
  {
   "cell_type": "code",
   "execution_count": null,
   "metadata": {},
   "outputs": [],
   "source": [
    "sul_net=(dados_interesse[\"ACESSO A INTERNET\"])[dados_interesse.REGIAO==\"Sul\"].value_counts()\n",
    "sul_3G= (dados_interesse[\"3G\"])[dados_interesse.REGIAO==\"Sul\"].value_counts()\n",
    "sul_bl= (dados_interesse[\"BANDA LARGA\"])[dados_interesse.REGIAO==\"Sul\"].value_counts()\n",
    "sul_cd= (dados_interesse[\"CONEXAO DISCADA\"])[dados_interesse.REGIAO==\"Sul\"].value_counts()\n",
    "\n",
    "\n",
    "f, axarr = plt.subplots(1,4,figsize=(20,5))\n",
    "axarr[0].pie(sul_net,autopct=\"%0.1f\",labels=sul_net.index,colors=[\"royalblue\",\"lightsteelblue\"])\n",
    "axarr[0].set_title('Sul - ACESSO A INTERNET')\n",
    "\n",
    "\n",
    "axarr[1].pie(sul_3G,autopct=\"%0.1f\",labels=sul_3G.index,colors=[\"royalblue\",\"lightsteelblue\"])\n",
    "axarr[1].set_title('3G')\n",
    "\n",
    "\n",
    "axarr[2].pie(sul_bl,autopct=\"%0.1f\",labels=sul_bl.index,colors=[\"royalblue\",\"lightsteelblue\"])\n",
    "axarr[2].set_title('BANDA LARGA')\n",
    "\n",
    "\n",
    "axarr[3].pie(sul_cd,autopct=\"%0.1f\",labels=sul_cd.index,colors=[\"lightsteelblue\",\"royalblue\"])\n",
    "axarr[3].set_title('CONEXAO DISCADA')\n",
    "sal_reg[4:5].plot(kind=\"bar\",grid = True, colormap =\"winter\",alpha=0.6,title=\"Salarios Sulistas\")"
   ]
  },
  {
   "cell_type": "markdown",
   "metadata": {},
   "source": [
    "Na regiao Sul, que possui uma média de salários alta (uma das maiores do brasil),como vimos anteriormente,\n",
    "a area de planos para 3G possui um grande potencial de crescimento, visto que + de 90% da população brasileira possui celular\n",
    "e esta e uma regiao muito rica."
   ]
  },
  {
   "cell_type": "code",
   "execution_count": null,
   "metadata": {
    "collapsed": true
   },
   "outputs": [],
   "source": []
  },
  {
   "cell_type": "code",
   "execution_count": null,
   "metadata": {
    "collapsed": true
   },
   "outputs": [],
   "source": []
  },
  {
   "cell_type": "code",
   "execution_count": null,
   "metadata": {
    "collapsed": true
   },
   "outputs": [],
   "source": []
  },
  {
   "cell_type": "markdown",
   "metadata": {},
   "source": [
    "___\n",
    "## Conclusão "
   ]
  },
  {
   "cell_type": "markdown",
   "metadata": {
    "collapsed": true
   },
   "source": [
    "Descreva aqui suas conclusões!"
   ]
  },
  {
   "cell_type": "code",
   "execution_count": null,
   "metadata": {
    "collapsed": true
   },
   "outputs": [],
   "source": []
  }
 ],
 "metadata": {
  "anaconda-cloud": {},
  "kernelspec": {
   "display_name": "Python 3",
   "language": "python",
   "name": "python3"
  },
  "language_info": {
   "codemirror_mode": {
    "name": "ipython",
    "version": 3
   },
   "file_extension": ".py",
   "mimetype": "text/x-python",
   "name": "python",
   "nbconvert_exporter": "python",
   "pygments_lexer": "ipython3",
   "version": "3.6.0"
  }
 },
 "nbformat": 4,
 "nbformat_minor": 1
}
