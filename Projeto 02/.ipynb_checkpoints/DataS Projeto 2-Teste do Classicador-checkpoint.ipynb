{
 "cells": [
  {
   "cell_type": "markdown",
   "metadata": {},
   "source": [
    "# Projeto 2 - Classificador Automático de Sentimento\n",
    "\n",
    "Você foi contratado por uma empresa parar analisar como os clientes estão reagindo a um determinado produto no Twitter. A empresa deseja que você crie um programa que irá analisar as mensagens disponíveis e classificará como \"relevante\" ou \"irrelevante\". Com isso ela deseja que mensagens negativas, que denigrem o nome do produto, ou que mereçam destaque, disparem um foco de atenção da área de marketing.<br /><br />\n",
    "Como aluno de Ciência dos Dados, você lembrou do Teorema de Bayes, mais especificamente do Classificador Naive-Bayes, que é largamente utilizado em filtros anti-spam de e-mails. O classificador permite calcular qual a probabilidade de uma mensagem ser relevante dadas as palavras em seu conteúdo.<br /><br />\n",
    "Para realizar o MVP (*minimum viable product*) do projeto, você precisa implementar uma versão do classificador que \"aprende\" o que é relevante com uma base de treinamento e compara a performance dos resultados com uma base de testes.<br /><br />\n",
    "Após validado, o seu protótipo poderá também capturar e classificar automaticamente as mensagens da plataforma.\n",
    "\n",
    "## Informações do Projeto\n",
    "\n",
    "Prazo: 13/Set até às 23:59.<br />\n",
    "Grupo: 1 ou 2 pessoas.<br /><br />\n",
    "Entregáveis via GitHub: \n",
    "* Arquivo notebook com o código do classificador, seguindo as orientações abaixo.\n",
    "* Arquivo Excel com as bases de treinamento e teste totalmente classificado.\n",
    "\n",
    "**NÃO disponibilizar o arquivo com os *access keys/tokens* do Twitter.**\n",
    "\n",
    "\n",
    "### Check 3: \n",
    "\n",
    "Até o dia 06 de Setembro às 23:59, o notebook e o xlsx devem estar no Github com as seguintes evidências: \n",
    "    * Conta no twitter criada.\n",
    "    * Produto escolhido.\n",
    "    * Arquivo Excel contendo a base de treinamento e teste já classificado.\n",
    "\n",
    "Sugestão de leitura:<br />\n",
    "http://docs.tweepy.org/en/v3.5.0/index.html<br />\n",
    "https://monkeylearn.com/blog/practical-explanation-naive-bayes-classifier/"
   ]
  },
  {
   "cell_type": "markdown",
   "metadata": {},
   "source": [
    "___\n",
    "\n",
    "## Preparando o ambiente\n",
    "\n",
    "Instalando a biblioteca *tweepy* para realizar a conexão com o Twitter:"
   ]
  },
  {
   "cell_type": "code",
   "execution_count": 1,
   "metadata": {
    "collapsed": true
   },
   "outputs": [],
   "source": [
    "%%capture\n",
    "\n",
    "#Instalando o tweepy\n",
    "!pip install tweepy"
   ]
  },
  {
   "cell_type": "markdown",
   "metadata": {},
   "source": [
    "Importando as Bibliotecas que serão utilizadas. Esteja livre para adicionar outras."
   ]
  },
  {
   "cell_type": "code",
   "execution_count": 2,
   "metadata": {
    "collapsed": true
   },
   "outputs": [],
   "source": [
    "import tweepy\n",
    "import math\n",
    "import os.path\n",
    "import pandas as pd\n",
    "import json\n",
    "from random import shuffle"
   ]
  },
  {
   "cell_type": "markdown",
   "metadata": {},
   "source": [
    "___\n",
    "## Autenticando no  Twitter\n",
    "\n",
    "Para realizar a captura dos dados é necessário ter uma conta cadastrada no twitter:\n",
    "\n",
    "* Conta: ***@arthur_juan***\n",
    "\n",
    "\n",
    "1. Caso ainda não tenha uma: https://twitter.com/signup\n",
    "1. Depois é necessário registrar um app para usar a biblioteca: https://apps.twitter.com/\n",
    "1. Dentro do registro do App, na aba Keys and Access Tokens, anotar os seguintes campos:\n",
    "    1. Consumer Key (API Key)\n",
    "    1. Consumer Secret (API Secret)\n",
    "1. Mais abaixo, gere um Token e anote também:\n",
    "    1. Access Token\n",
    "    1. Access Token Secret\n",
    "    \n",
    "1. Preencha os valores no arquivo \"auth.pass\"\n",
    "\n",
    "**ATENÇÃO**: Nunca divulgue os dados desse arquivo online (GitHub, etc). Ele contém as chaves necessárias para realizar as operações no twitter de forma automática e portanto é equivalente a ser \"hackeado\". De posse desses dados, pessoas mal intencionadas podem fazer todas as operações manuais (tweetar, seguir, bloquear/desbloquear, listar os seguidores, etc). Para efeito do projeto, esse arquivo não precisa ser entregue!!!"
   ]
  },
  {
   "cell_type": "code",
   "execution_count": 25,
   "metadata": {
    "collapsed": true
   },
   "outputs": [],
   "source": []
  },
  {
   "cell_type": "code",
   "execution_count": 26,
   "metadata": {
    "collapsed": true
   },
   "outputs": [],
   "source": []
  },
  {
   "cell_type": "markdown",
   "metadata": {},
   "source": [
    "___\n",
    "## Coletando Dados\n",
    "\n",
    "Agora vamos coletar os dados. Tenha em mente que dependendo do produto escolhido, não haverá uma quantidade significativa de mensagens, ou ainda poder haver muitos retweets.<br /><br /> \n",
    "Configurando:"
   ]
  },
  {
   "cell_type": "code",
   "execution_count": 27,
   "metadata": {
    "collapsed": true
   },
   "outputs": [],
   "source": []
  },
  {
   "cell_type": "markdown",
   "metadata": {},
   "source": [
    "Capturando os dados do twitter:"
   ]
  },
  {
   "cell_type": "code",
   "execution_count": 28,
   "metadata": {
    "collapsed": true
   },
   "outputs": [],
   "source": []
  },
  {
   "cell_type": "markdown",
   "metadata": {},
   "source": [
    "Salvando os dados em uma planilha Excel:"
   ]
  },
  {
   "cell_type": "code",
   "execution_count": 29,
   "metadata": {
    "collapsed": true
   },
   "outputs": [],
   "source": []
  },
  {
   "cell_type": "markdown",
   "metadata": {},
   "source": [
    "___\n",
    "## Classificando as Mensagens\n",
    "\n",
    "Agora você deve abrir o arquivo Excel com as mensagens capturadas e classificar na Coluna B se a mensagem é relevante ou não.<br /> \n",
    "Não se esqueça de colocar um nome para a coluna na célula **B1**.<br /><br />\n",
    "Fazer o mesmo na planilha de Controle.\n",
    "\n",
    "___\n",
    "## Montando o Classificador Naive-Bayes\n",
    "\n",
    "Com a base de treinamento montada, comece a desenvolver o classificador. Escreva o seu código abaixo:\n",
    "\n",
    "Opcionalmente: \n",
    "* Limpar as mensagens removendo os caracteres: enter, :, \", ', (, ), etc. Não remover emojis.<br />\n",
    "* Corrigir separação de espaços entre palavras e/ou emojis.\n",
    "* Propor outras limpezas/transformações que não afetem a qualidade da informação.\n",
    "\n"
   ]
  },
  {
   "cell_type": "code",
   "execution_count": 1,
   "metadata": {},
   "outputs": [
    {
     "data": {
      "text/html": [
       "<div>\n",
       "<style>\n",
       "    .dataframe thead tr:only-child th {\n",
       "        text-align: right;\n",
       "    }\n",
       "\n",
       "    .dataframe thead th {\n",
       "        text-align: left;\n",
       "    }\n",
       "\n",
       "    .dataframe tbody tr th {\n",
       "        vertical-align: top;\n",
       "    }\n",
       "</style>\n",
       "<table border=\"1\" class=\"dataframe\">\n",
       "  <thead>\n",
       "    <tr style=\"text-align: right;\">\n",
       "      <th></th>\n",
       "      <th>Treinamento</th>\n",
       "      <th>Relevância</th>\n",
       "    </tr>\n",
       "  </thead>\n",
       "  <tbody>\n",
       "    <tr>\n",
       "      <th>0</th>\n",
       "      <td>A A A</td>\n",
       "      <td>1</td>\n",
       "    </tr>\n",
       "    <tr>\n",
       "      <th>1</th>\n",
       "      <td>A A</td>\n",
       "      <td>1</td>\n",
       "    </tr>\n",
       "    <tr>\n",
       "      <th>2</th>\n",
       "      <td>A</td>\n",
       "      <td>1</td>\n",
       "    </tr>\n",
       "    <tr>\n",
       "      <th>3</th>\n",
       "      <td>A C</td>\n",
       "      <td>1</td>\n",
       "    </tr>\n",
       "    <tr>\n",
       "      <th>4</th>\n",
       "      <td>A A C</td>\n",
       "      <td>1</td>\n",
       "    </tr>\n",
       "    <tr>\n",
       "      <th>5</th>\n",
       "      <td>B</td>\n",
       "      <td>0</td>\n",
       "    </tr>\n",
       "    <tr>\n",
       "      <th>6</th>\n",
       "      <td>B B</td>\n",
       "      <td>0</td>\n",
       "    </tr>\n",
       "    <tr>\n",
       "      <th>7</th>\n",
       "      <td>B B B</td>\n",
       "      <td>0</td>\n",
       "    </tr>\n",
       "    <tr>\n",
       "      <th>8</th>\n",
       "      <td>B C</td>\n",
       "      <td>0</td>\n",
       "    </tr>\n",
       "    <tr>\n",
       "      <th>9</th>\n",
       "      <td>B B C</td>\n",
       "      <td>0</td>\n",
       "    </tr>\n",
       "    <tr>\n",
       "      <th>10</th>\n",
       "      <td>C</td>\n",
       "      <td>0</td>\n",
       "    </tr>\n",
       "    <tr>\n",
       "      <th>11</th>\n",
       "      <td>C C</td>\n",
       "      <td>0</td>\n",
       "    </tr>\n",
       "    <tr>\n",
       "      <th>12</th>\n",
       "      <td>C C C</td>\n",
       "      <td>0</td>\n",
       "    </tr>\n",
       "    <tr>\n",
       "      <th>13</th>\n",
       "      <td>A C C</td>\n",
       "      <td>1</td>\n",
       "    </tr>\n",
       "    <tr>\n",
       "      <th>14</th>\n",
       "      <td>B C C</td>\n",
       "      <td>0</td>\n",
       "    </tr>\n",
       "    <tr>\n",
       "      <th>15</th>\n",
       "      <td>B A</td>\n",
       "      <td>0</td>\n",
       "    </tr>\n",
       "    <tr>\n",
       "      <th>16</th>\n",
       "      <td>B B A</td>\n",
       "      <td>0</td>\n",
       "    </tr>\n",
       "    <tr>\n",
       "      <th>17</th>\n",
       "      <td>A A B</td>\n",
       "      <td>1</td>\n",
       "    </tr>\n",
       "  </tbody>\n",
       "</table>\n",
       "</div>"
      ],
      "text/plain": [
       "   Treinamento  Relevância\n",
       "0       A A A            1\n",
       "1          A A           1\n",
       "2           A            1\n",
       "3          A C           1\n",
       "4        A A C           1\n",
       "5            B           0\n",
       "6          B B           0\n",
       "7        B B B           0\n",
       "8          B C           0\n",
       "9        B B C           0\n",
       "10           C           0\n",
       "11         C C           0\n",
       "12       C C C           0\n",
       "13      A C C            1\n",
       "14      B C C            0\n",
       "15         B A           0\n",
       "16       B B A           0\n",
       "17       A A B           1"
      ]
     },
     "execution_count": 1,
     "metadata": {},
     "output_type": "execute_result"
    }
   ],
   "source": [
    "import pandas as pd\n",
    "\n",
    "dados = pd.read_excel('Planilha-Teste.xlsx')\n",
    "\n",
    "\n",
    "\n",
    "\n",
    "dados['Treinamento'] = dados['Treinamento'].map(lambda x: x.lstrip('rt'))\n",
    "\n",
    "\n",
    "#dados['Treinamento'].str.replace('[\":\",\";\",\"[\",\"]\"]', '')\n",
    "\n",
    "\n",
    "\n",
    "df = pd.DataFrame({\"Treinamento\":[]})\n",
    "formatado=[]\n",
    "formatado2=[]\n",
    "\n",
    "for i in range(len(dados)):\n",
    "    formatado.append(dados['Treinamento'][i].translate({ord(c): None for c in \"@:;,[]“/{}()+=-_*\"}))\n",
    "    formatado2.append(dados['Relevância'][i])\n",
    "df[\"Treinamento\"]=formatado\n",
    "df[\"Relevância\"]=formatado2\n",
    "\n",
    "\n",
    "\n",
    "\n",
    "#df['range'] = df['range'].str.replace(',','-')\n",
    "\n",
    "df"
   ]
  },
  {
   "cell_type": "code",
   "execution_count": 10,
   "metadata": {},
   "outputs": [
    {
     "name": "stdout",
     "output_type": "stream",
     "text": [
      "Counter({'A': 12, 'C': 4, 'B': 1})\n"
     ]
    }
   ],
   "source": [
    "pR = []\n",
    "pIR = []\n",
    "\n",
    "\n",
    "for i in range(len(dados)):\n",
    "    if df[\"Relevância\"][i] == 0:\n",
    "        pIR.append(df['Treinamento'][i])\n",
    "    else:\n",
    "        pR.append(df['Treinamento'][i])\n",
    "\n",
    "\n",
    "lpr = []\n",
    "lpir = []\n",
    "\n",
    "\n",
    "PR = (7/18)\n",
    "PIR = (18 - 7)/18\n",
    "\n",
    "\n",
    "\n",
    "\n",
    "\n",
    "for i in range(len(pR)):\n",
    "    lpr += pR[i].split()\n",
    "\n",
    "for i in range(len(pIR)):\n",
    "    lpir += pIR[i].split()\n",
    "    \n",
    "#palaras_delete = [\"a\",\"i\",\"o\",\"on\",\"who\",\"has\",\"in\",\"it\",\"now\",\"as\",\"me\",\"same\",\"day\",\"too\"]\n",
    "#stopwords = [\"htc\",'vive','']\n",
    "\n",
    "\n",
    "\n",
    "\n",
    "    \n",
    "#print(lpr)\n",
    "from collections import Counter\n",
    "\n",
    "fr  = Counter(lpr)\n",
    "fir = Counter(lpir)\n",
    "print(fr)\n",
    "#print(fir)\n",
    "\n",
    "dicta = {}\n",
    "\n",
    "dfqr = {}\n",
    "\n",
    "for k,v in fr.items():\n",
    "    dfqr[k] = v\n",
    "\n",
    "    \n",
    "\n",
    "dfqir = {}\n",
    "\n",
    "for k,v in fir.items():\n",
    "    dfqir[k] = v\n",
    "\n",
    "    \n",
    "#x = len(lpr)\n",
    "#print(x)\n",
    "\n",
    "#dfpr = pd.DataFrame()\n",
    "#dfpi = pd.DataFrame()\n",
    "#dfpr[\"R\"]=lpr\n",
    "#dfpi[\"IR\"]=lpir\n",
    "\n",
    "#dfpr.describe()\n",
    "\n",
    "\n",
    "\n",
    "#for i in range(3):\n",
    "#    print(fr[i]/250)\n",
    "#print(len(lpir))\n",
    "#print(fir) \n",
    "#print(dfqir)\n",
    "\n",
    "\n",
    "\n",
    "\n",
    "\n"
   ]
  },
  {
   "cell_type": "code",
   "execution_count": null,
   "metadata": {
    "collapsed": true
   },
   "outputs": [],
   "source": []
  },
  {
   "cell_type": "code",
   "execution_count": 11,
   "metadata": {},
   "outputs": [
    {
     "name": "stdout",
     "output_type": "stream",
     "text": [
      "Counter({'A': 12, 'C': 4, 'B': 1})\n",
      "0\n"
     ]
    }
   ],
   "source": [
    "#dfqr = {}\n",
    "\n",
    "#for k,v in fr.items():\n",
    "#    dfqr[k] = v\n",
    "\n",
    "    \n",
    "\n",
    "#dfqir = {}\n",
    "#\n",
    "#for k,v in fir.items():\n",
    "#    dfqir[k] = v\n",
    "\n",
    "\n",
    "\n",
    "print(fr)\n",
    "print(fr[1])\n"
   ]
  },
  {
   "cell_type": "code",
   "execution_count": 12,
   "metadata": {},
   "outputs": [
    {
     "name": "stdout",
     "output_type": "stream",
     "text": [
      "17\n",
      "0.03571428571428571\n"
     ]
    }
   ],
   "source": [
    "palavrasR = len(lpr)\n",
    "palavrasIR = len(lpir)\n",
    "listu = Counter(lpr + lpir)\n",
    "\n",
    "print(palavrasR)\n",
    "print(1/(len(listu)+palavrasIR))"
   ]
  },
  {
   "cell_type": "code",
   "execution_count": 18,
   "metadata": {},
   "outputs": [
    {
     "name": "stdout",
     "output_type": "stream",
     "text": [
      "A Ser relevante\n",
      "0.65\n",
      "   \n",
      "A Ser relevante\n",
      "0.65\n",
      "   \n",
      "A Ser relevante\n",
      "0.65\n",
      "   \n",
      "A Ser relevante\n",
      "0.65\n",
      "   \n",
      "A Ser Irelevante\n",
      "0.10714285714285714\n",
      "   \n",
      "A Ser Irelevante\n",
      "0.10714285714285714\n",
      "   \n",
      "A Ser Irelevante\n",
      "0.10714285714285714\n",
      "   \n",
      "A Ser Irelevante\n",
      "0.10714285714285714\n",
      "   \n",
      "[0.3888888888888889, 0.65, 0.65, 0.65, 0.65, 0.05, 0.05, 0.05]\n",
      "[0.6111111111111112, 0.10714285714285714, 0.10714285714285714, 0.10714285714285714, 0.10714285714285714, 0.03571428571428571, 0.03571428571428571, 0.03571428571428571]\n",
      "Relevante\n",
      "3.37453944830247e-06 2.241915087084098e-09\n"
     ]
    }
   ],
   "source": [
    "\n",
    "listu = Counter(lpr + lpir)\n",
    "total = len(listu)\n",
    "palavrasR = len(lpr)\n",
    "palavrasIR = len(lpir)\n",
    "\n",
    "stringy = \"A A A A D D D \"\n",
    "\n",
    "\n",
    "listp = stringy.split()\n",
    "\n",
    "x = PR\n",
    "y = PIR\n",
    "\n",
    "\n",
    "listR = [x]\n",
    "listIR = [y]\n",
    "\n",
    "\n",
    "for i in range(len(listp)):\n",
    "    if listp[i] in lpr:\n",
    "        listR.append((fr[listp[i]]+1)/(total+palavrasR))\n",
    "        print(listp[i] + \" Ser relevante\")\n",
    "        print(listR[i+1])\n",
    "        print(\"   \")\n",
    "    else:\n",
    "        listR.append(1/(total+palavrasR))\n",
    "        \n",
    "        \n",
    "for i in range(len(listp)):\n",
    "    if listp[i] in lpir:\n",
    "        \n",
    "        \n",
    "        listIR.append((fir[listp[i]]+1)/(total+palavrasIR))\n",
    "        print(listp[i] + \" Ser Irelevante\")\n",
    "        print(listIR[i+1])\n",
    "        print(\"   \")\n",
    "    else:\n",
    "        listIR.append(1/(total+palavrasIR))\n",
    "        #print(\"N TEM\")\n",
    "        #print(listIR[i])\n",
    "        \n",
    "x = PR\n",
    "y = PIR\n",
    "\n",
    "print(listR)\n",
    "print(listIR)        \n",
    "for i in range(len(listR)):\n",
    "    x*=listR[i]\n",
    "    y*=listIR[i]\n",
    "    #print(x,\"{}\".format(i))\n",
    "    #print(y)\n",
    "\n",
    "    \n",
    "#print(PRP)\n",
    "#print(PIRP)\n",
    "\n",
    "if x > y:\n",
    "    print(\"Relevante\")\n",
    "else:\n",
    "    print(\"Irrelevante\")\n",
    "print(x,y)"
   ]
  },
  {
   "cell_type": "code",
   "execution_count": null,
   "metadata": {
    "collapsed": true
   },
   "outputs": [],
   "source": []
  },
  {
   "cell_type": "markdown",
   "metadata": {},
   "source": [
    "___\n",
    "## Verificando a performance\n",
    "\n",
    "Agora você deve testar o seu Classificador com a base de Testes.<br /><br /> \n",
    "\n",
    "Você deve extrair as seguintes medidas:\n",
    "* Porcentagem de positivos falsos (marcados como relevante mas não são relevantes)\n",
    "* Porcentagem de positivos verdadeiros (marcado como relevante e são relevantes)\n",
    "* Porcentagem de negativos verdadeiros (marcado como não relevante e não são relevantes)\n",
    "* Porcentagem de negativos falsos (marcado como não relevante e são relevantes)\n",
    "\n",
    "Opcionalmente:\n",
    "* Criar categorias intermediárias de relevância baseado na diferença de probabilidades. Exemplo: muito relevante, relevante, neutro, irrelevante e muito irrelevante."
   ]
  },
  {
   "cell_type": "code",
   "execution_count": null,
   "metadata": {
    "collapsed": true,
    "scrolled": true
   },
   "outputs": [],
   "source": []
  },
  {
   "cell_type": "markdown",
   "metadata": {
    "collapsed": true
   },
   "source": [
    "___\n",
    "## Concluindo\n",
    "\n",
    "Escreva aqui a sua conclusão.<br /> \n",
    "Faça um comparativo qualitativo sobre as medidas obtidas.<br />\n",
    "Explique como são tratadas as mensagens com dupla negação e sarcasmo.<br />\n",
    "Proponha um plano de expansão. Por que eles devem continuar financiando o seu projeto?<br />\n",
    "\n",
    "Opcionalmente: \n",
    "* Discorrer por que não posso alimentar minha base de Treinamento automaticamente usando o próprio classificador, aplicado a novos tweets.\n",
    "* Propor diferentes cenários de uso para o classificador Naive-Bayes. Cenários sem intersecção com este projeto.\n",
    "* Sugerir e explicar melhorias reais no classificador com indicações concretas de como implementar (não é preciso codificar, mas indicar como fazer e material de pesquisa sobre o assunto).\n"
   ]
  },
  {
   "cell_type": "code",
   "execution_count": null,
   "metadata": {
    "collapsed": true
   },
   "outputs": [],
   "source": []
  }
 ],
 "metadata": {
  "kernelspec": {
   "display_name": "Python 3",
   "language": "python",
   "name": "python3"
  },
  "language_info": {
   "codemirror_mode": {
    "name": "ipython",
    "version": 3
   },
   "file_extension": ".py",
   "mimetype": "text/x-python",
   "name": "python",
   "nbconvert_exporter": "python",
   "pygments_lexer": "ipython3",
   "version": "3.6.0"
  }
 },
 "nbformat": 4,
 "nbformat_minor": 1
}
